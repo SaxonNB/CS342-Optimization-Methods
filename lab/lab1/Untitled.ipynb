{
 "cells": [
  {
   "cell_type": "code",
   "execution_count": 4,
   "id": "58ae0a2d",
   "metadata": {},
   "outputs": [
    {
     "name": "stdout",
     "output_type": "stream",
     "text": [
      "n = None\n"
     ]
    }
   ],
   "source": [
    "import math\n",
    "\n",
    "def find_n():\n",
    "    target = 2 ** 1000\n",
    "    factorial_n_minus_1 = 1\n",
    "    n_minus_1 = 1\n",
    "\n",
    "    # 计算 (n-1)!，其中 n_minus_1 是 n-1 的阶乘\n",
    "    while factorial_n_minus_1 < target * 2:\n",
    "        n_minus_1 += 1\n",
    "        factorial_n_minus_1 *= n_minus_1\n",
    "\n",
    "    # 从 (n-1)!/2 开始向后搜索，直到找到最接近 2^1000 的值\n",
    "    n = n_minus_1\n",
    "    while n > 0:\n",
    "        if factorial_n_minus_1 / 2 == target:\n",
    "            return n\n",
    "        factorial_n_minus_1 //= n\n",
    "        n -= 1\n",
    "\n",
    "    return None\n",
    "\n",
    "# 找到满足条件的 n\n",
    "n = find_n()\n",
    "print(\"n =\", n)\n"
   ]
  },
  {
   "cell_type": "code",
   "execution_count": null,
   "id": "1b88a8b3",
   "metadata": {},
   "outputs": [],
   "source": []
  },
  {
   "cell_type": "code",
   "execution_count": null,
   "id": "5f4af58f",
   "metadata": {},
   "outputs": [],
   "source": []
  }
 ],
 "metadata": {
  "kernelspec": {
   "display_name": "Python 3 (ipykernel)",
   "language": "python",
   "name": "python3"
  },
  "language_info": {
   "codemirror_mode": {
    "name": "ipython",
    "version": 3
   },
   "file_extension": ".py",
   "mimetype": "text/x-python",
   "name": "python",
   "nbconvert_exporter": "python",
   "pygments_lexer": "ipython3",
   "version": "3.11.5"
  }
 },
 "nbformat": 4,
 "nbformat_minor": 5
}

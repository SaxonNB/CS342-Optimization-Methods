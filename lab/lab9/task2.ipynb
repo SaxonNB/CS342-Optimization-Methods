{
 "cells": [
  {
   "cell_type": "code",
   "execution_count": 1,
   "metadata": {},
   "outputs": [
    {
     "name": "stdout",
     "output_type": "stream",
     "text": [
      "GLPK Solution:\n",
      "Objective Value: 2.0\n",
      "x1 = -0.0\n",
      "x2 = 1.0\n",
      "x3 = 0.0\n",
      "x4 = 1.0\n"
     ]
    },
    {
     "name": "stderr",
     "output_type": "stream",
     "text": [
      "d:\\condaenv\\myenv\\lib\\site-packages\\pulp\\pulp.py:1316: UserWarning: Spaces are not permitted in the name. Converted to '_'\n",
      "  warnings.warn(\"Spaces are not permitted in the name. Converted to '_'\")\n"
     ]
    }
   ],
   "source": [
    "import pulp\n",
    "\n",
    "# Define the problem\n",
    "prob = pulp.LpProblem(\"LP Problem\", pulp.LpMinimize)\n",
    "\n",
    "# Define decision variables\n",
    "x1 = pulp.LpVariable('x1', lowBound=0, upBound=1)\n",
    "x2 = pulp.LpVariable('x2', lowBound=0, upBound=1)\n",
    "x3 = pulp.LpVariable('x3', lowBound=0, upBound=1)\n",
    "x4 = pulp.LpVariable('x4', lowBound=0, upBound=1)\n",
    "\n",
    "# Objective function\n",
    "prob += x1 + x2 + x3 + x4\n",
    "\n",
    "# Constraints\n",
    "prob += x1 + x2 == 1\n",
    "prob += x2 + x3 == 1\n",
    "prob += x3 + x4 == 1\n",
    "prob += x1 + x4 == 1\n",
    "\n",
    "# Solve the problem\n",
    "prob.solve()\n",
    "\n",
    "# Print the solution\n",
    "print(\"GLPK Solution:\")\n",
    "print(\"Objective Value:\", pulp.value(prob.objective))\n",
    "print(\"x1 =\", pulp.value(x1))\n",
    "print(\"x2 =\", pulp.value(x2))\n",
    "print(\"x3 =\", pulp.value(x3))\n",
    "print(\"x4 =\", pulp.value(x4))\n"
   ]
  },
  {
   "cell_type": "code",
   "execution_count": 2,
   "metadata": {},
   "outputs": [
    {
     "name": "stdout",
     "output_type": "stream",
     "text": [
      "Restricted license - for non-production use only - expires 2025-11-24\n",
      "Gurobi Optimizer version 11.0.1 build v11.0.1rc0 (win64 - Windows 11.0 (22631.2))\n",
      "\n",
      "CPU model: Intel(R) Core(TM) i7-10870H CPU @ 2.20GHz, instruction set [SSE2|AVX|AVX2]\n",
      "Thread count: 8 physical cores, 16 logical processors, using up to 16 threads\n",
      "\n",
      "Optimize a model with 4 rows, 4 columns and 8 nonzeros\n",
      "Model fingerprint: 0x0ca829fc\n",
      "Coefficient statistics:\n",
      "  Matrix range     [1e+00, 1e+00]\n",
      "  Objective range  [1e+00, 1e+00]\n",
      "  Bounds range     [1e+00, 1e+00]\n",
      "  RHS range        [1e+00, 1e+00]\n",
      "Presolve removed 4 rows and 4 columns\n",
      "Presolve time: 0.01s\n",
      "Presolve: All rows and columns removed\n",
      "Iteration    Objective       Primal Inf.    Dual Inf.      Time\n",
      "       0    2.0000000e+00   0.000000e+00   0.000000e+00      0s\n",
      "\n",
      "Solved in 0 iterations and 0.01 seconds (0.00 work units)\n",
      "Optimal objective  2.000000000e+00\n",
      "Gurobi Solution:\n",
      "Objective Value: 2.0\n",
      "x1 = 1.0\n",
      "x2 = 0.0\n",
      "x3 = 1.0\n",
      "x4 = 0.0\n"
     ]
    }
   ],
   "source": [
    "import gurobipy as gp\n",
    "\n",
    "# Create a new model\n",
    "model = gp.Model(\"LP Problem\")\n",
    "\n",
    "# Create variables\n",
    "x1 = model.addVar(lb=0, ub=1, name=\"x1\")\n",
    "x2 = model.addVar(lb=0, ub=1, name=\"x2\")\n",
    "x3 = model.addVar(lb=0, ub=1, name=\"x3\")\n",
    "x4 = model.addVar(lb=0, ub=1, name=\"x4\")\n",
    "\n",
    "# Set objective\n",
    "model.setObjective(x1 + x2 + x3 + x4, gp.GRB.MINIMIZE)\n",
    "\n",
    "# Add constraints\n",
    "model.addConstr(x1 + x2 == 1, \"c0\")\n",
    "model.addConstr(x2 + x3 == 1, \"c1\")\n",
    "model.addConstr(x3 + x4 == 1, \"c2\")\n",
    "model.addConstr(x1 + x4 == 1, \"c3\")\n",
    "\n",
    "# Optimize the model\n",
    "model.optimize()\n",
    "\n",
    "# Print the solution\n",
    "print(\"Gurobi Solution:\")\n",
    "print(\"Objective Value:\", model.objVal)\n",
    "print(\"x1 =\", x1.x)\n",
    "print(\"x2 =\", x2.x)\n",
    "print(\"x3 =\", x3.x)\n",
    "print(\"x4 =\", x4.x)\n"
   ]
  },
  {
   "cell_type": "code",
   "execution_count": 3,
   "metadata": {},
   "outputs": [
    {
     "name": "stdout",
     "output_type": "stream",
     "text": [
      "PuLP Solution:\n",
      "Objective Value: 2.0\n",
      "x1 = -0.0\n",
      "x2 = 1.0\n",
      "x3 = 0.0\n",
      "x4 = 1.0\n"
     ]
    }
   ],
   "source": [
    "from pulp import LpVariable, LpProblem, LpMinimize, lpSum, value\n",
    "\n",
    "# Create the problem\n",
    "prob = LpProblem(\"LP Problem\", LpMinimize)\n",
    "\n",
    "# Define decision variables\n",
    "x1 = LpVariable(\"x1\", lowBound=0, upBound=1)\n",
    "x2 = LpVariable(\"x2\", lowBound=0, upBound=1)\n",
    "x3 = LpVariable(\"x3\", lowBound=0, upBound=1)\n",
    "x4 = LpVariable(\"x4\", lowBound=0, upBound=1)\n",
    "\n",
    "# Objective function\n",
    "prob += x1 + x2 + x3 + x4\n",
    "\n",
    "# Constraints\n",
    "prob += x1 + x2 == 1\n",
    "prob += x2 + x3 == 1\n",
    "prob += x3 + x4 == 1\n",
    "prob += x1 + x4 == 1\n",
    "\n",
    "# Solve the problem\n",
    "prob.solve()\n",
    "\n",
    "# Print the solution\n",
    "print(\"PuLP Solution:\")\n",
    "print(\"Objective Value:\", value(prob.objective))\n",
    "print(\"x1 =\", value(x1))\n",
    "print(\"x2 =\", value(x2))\n",
    "print(\"x3 =\", value(x3))\n",
    "print(\"x4 =\", value(x4))\n"
   ]
  }
 ],
 "metadata": {
  "kernelspec": {
   "display_name": "myenv",
   "language": "python",
   "name": "python3"
  },
  "language_info": {
   "codemirror_mode": {
    "name": "ipython",
    "version": 3
   },
   "file_extension": ".py",
   "mimetype": "text/x-python",
   "name": "python",
   "nbconvert_exporter": "python",
   "pygments_lexer": "ipython3",
   "version": "3.8.18"
  }
 },
 "nbformat": 4,
 "nbformat_minor": 2
}

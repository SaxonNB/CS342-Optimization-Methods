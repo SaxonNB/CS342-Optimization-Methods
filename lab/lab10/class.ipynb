{
 "cells": [
  {
   "cell_type": "code",
   "execution_count": 4,
   "metadata": {},
   "outputs": [
    {
     "name": "stdout",
     "output_type": "stream",
     "text": [
      "迭代第4次,迭代精度小于等于0.3，最终的搜索区间为：(0.652478180448, 0.944210064)，min function value：-24.36025110019981\n",
      "确定最小值的两端值为： -23.837455119242016 -23.5930326660056\n"
     ]
    }
   ],
   "source": [
    "from sympy import *\n",
    "\n",
    "a = 0  #区间下限\n",
    "b = 2  #区间上限\n",
    "dx = 0.3  #迭代精度\n",
    "\n",
    "def func(x):\n",
    "    A = x**4-14*x**3+60*x**2-70*x\n",
    "    return A\n",
    "\n",
    "i = 0\n",
    "while True:\n",
    "    i += 1\n",
    "    x1 = b - 0.618*(b-a)\n",
    "    x2 = a + 0.618*(b-a)\n",
    "    if func(x1) > func(x2):\n",
    "        a = x1\n",
    "    elif func(x1) <= func(x2):\n",
    "        b = x2\n",
    "    DX = abs(b-a)\n",
    "    if DX <= dx:\n",
    "        print(f'迭代第{i}次,迭代精度小于等于{dx}，最终的搜索区间为：{min(a, b), max(a, b)}，min function value：{func((a + b) / 2)}')\n",
    "        print('确定最小值的两端值为：', func(a), func(b))\n",
    "        break\n",
    "    else:\n",
    "        pass\n"
   ]
  }
 ],
 "metadata": {
  "kernelspec": {
   "display_name": "myenv",
   "language": "python",
   "name": "python3"
  },
  "language_info": {
   "codemirror_mode": {
    "name": "ipython",
    "version": 3
   },
   "file_extension": ".py",
   "mimetype": "text/x-python",
   "name": "python",
   "nbconvert_exporter": "python",
   "pygments_lexer": "ipython3",
   "version": "3.8.18"
  }
 },
 "nbformat": 4,
 "nbformat_minor": 2
}

{
 "cells": [
  {
   "cell_type": "code",
   "execution_count": 1,
   "metadata": {},
   "outputs": [
    {
     "ename": "ModuleNotFoundError",
     "evalue": "No module named 'cupy'",
     "output_type": "error",
     "traceback": [
      "\u001b[1;31m---------------------------------------------------------------------------\u001b[0m",
      "\u001b[1;31mModuleNotFoundError\u001b[0m                       Traceback (most recent call last)",
      "Cell \u001b[1;32mIn[1], line 1\u001b[0m\n\u001b[1;32m----> 1\u001b[0m \u001b[38;5;28;01mimport\u001b[39;00m \u001b[38;5;21;01mcupy\u001b[39;00m \u001b[38;5;28;01mas\u001b[39;00m \u001b[38;5;21;01mcp\u001b[39;00m\n\u001b[0;32m      3\u001b[0m \u001b[38;5;28;01mdef\u001b[39;00m \u001b[38;5;21mestimate_non_dominated\u001b[39m(dim, points\u001b[38;5;241m=\u001b[39m\u001b[38;5;241m200\u001b[39m, trials\u001b[38;5;241m=\u001b[39m\u001b[38;5;241m1000\u001b[39m):\n\u001b[0;32m      4\u001b[0m     non_dominated_counts \u001b[38;5;241m=\u001b[39m []\n",
      "\u001b[1;31mModuleNotFoundError\u001b[0m: No module named 'cupy'"
     ]
    }
   ],
   "source": [
    "import cupy as cp\n",
    "\n",
    "def estimate_non_dominated(dim, points=200, trials=1000):\n",
    "    non_dominated_counts = []\n",
    "    \n",
    "    for _ in range(trials):\n",
    "        P = cp.random.rand(points, dim)\n",
    "        is_dominated = cp.zeros(points, dtype=bool)\n",
    "        \n",
    "        for i in range(points):\n",
    "            for j in range(points):\n",
    "                if i != j and cp.all(P[j] >= P[i]):\n",
    "                    is_dominated[i] = True\n",
    "                    break\n",
    "        \n",
    "        non_dominated_counts.append(cp.sum(~is_dominated).get())  # Move result back to host\n",
    "    \n",
    "    return cp.mean(cp.array(non_dominated_counts)).get()\n",
    "\n",
    "# For 200 points in [0, 1]^2\n",
    "non_dominated_200_2d = estimate_non_dominated(2, 200, 1000)\n",
    "print(non_dominated_200_2d)\n"
   ]
  }
 ],
 "metadata": {
  "kernelspec": {
   "display_name": "myenv",
   "language": "python",
   "name": "python3"
  },
  "language_info": {
   "codemirror_mode": {
    "name": "ipython",
    "version": 3
   },
   "file_extension": ".py",
   "mimetype": "text/x-python",
   "name": "python",
   "nbconvert_exporter": "python",
   "pygments_lexer": "ipython3",
   "version": "3.8.18"
  }
 },
 "nbformat": 4,
 "nbformat_minor": 2
}

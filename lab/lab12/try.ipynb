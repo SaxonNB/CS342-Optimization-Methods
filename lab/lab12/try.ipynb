{
 "cells": [
  {
   "cell_type": "code",
   "execution_count": 3,
   "metadata": {},
   "outputs": [
    {
     "name": "stdout",
     "output_type": "stream",
     "text": [
      "0.000967\n"
     ]
    }
   ],
   "source": [
    "import numpy as np\n",
    "\n",
    "def estimate_probability1(dim, trials=1000000):\n",
    "    count_dominated = 0\n",
    "    for _ in range(trials):\n",
    "        A = np.random.rand(dim)\n",
    "        B = np.random.rand(dim)\n",
    "        if np.all(B >= A):\n",
    "            count_dominated += 1\n",
    "    return count_dominated / trials\n",
    "\n",
    "# For [0, 1]^2\n",
    "prob_2d = estimate_probability1(10)\n",
    "print(prob_2d)\n"
   ]
  },
  {
   "cell_type": "code",
   "execution_count": 6,
   "metadata": {},
   "outputs": [
    {
     "name": "stdout",
     "output_type": "stream",
     "text": [
      "180.315\n"
     ]
    }
   ],
   "source": [
    "def estimate_non_dominated(dim, points=200, trials=1000):\n",
    "    non_dominated_counts = []\n",
    "    for _ in range(trials):\n",
    "        P = np.random.rand(points, dim)\n",
    "        is_dominated = np.zeros(points, dtype=bool)\n",
    "        for i in range(points):\n",
    "            for j in range(points):\n",
    "                if i != j and np.all(P[j] >= P[i]):\n",
    "                    is_dominated[i] = True\n",
    "                    break\n",
    "        non_dominated_counts.append(np.sum(~is_dominated))\n",
    "    return np.mean(non_dominated_counts)\n",
    "\n",
    "# For 200 points in [0, 1]^2\n",
    "non_dominated_200_2d = estimate_non_dominated(10, 2000)\n",
    "print(non_dominated_200_2d)\n"
   ]
  }
 ],
 "metadata": {
  "kernelspec": {
   "display_name": "myenv",
   "language": "python",
   "name": "python3"
  },
  "language_info": {
   "codemirror_mode": {
    "name": "ipython",
    "version": 3
   },
   "file_extension": ".py",
   "mimetype": "text/x-python",
   "name": "python",
   "nbconvert_exporter": "python",
   "pygments_lexer": "ipython3",
   "version": "3.8.18"
  }
 },
 "nbformat": 4,
 "nbformat_minor": 2
}
